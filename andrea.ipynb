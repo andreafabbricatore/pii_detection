{
 "cells": [
  {
   "cell_type": "code",
   "execution_count": 3,
   "metadata": {},
   "outputs": [
    {
     "name": "stderr",
     "output_type": "stream",
     "text": [
      "/opt/homebrew/lib/python3.11/site-packages/tqdm/auto.py:21: TqdmWarning: IProgress not found. Please update jupyter and ipywidgets. See https://ipywidgets.readthedocs.io/en/stable/user_install.html\n",
      "  from .autonotebook import tqdm as notebook_tqdm\n"
     ]
    }
   ],
   "source": [
    "import datasets"
   ]
  },
  {
   "cell_type": "code",
   "execution_count": 4,
   "metadata": {},
   "outputs": [
    {
     "name": "stderr",
     "output_type": "stream",
     "text": [
      "/opt/homebrew/lib/python3.11/site-packages/datasets/table.py:1421: FutureWarning: promote has been superseded by mode='default'.\n",
      "  table = cls._concat_blocks(blocks, axis=0)\n"
     ]
    }
   ],
   "source": [
    "from datasets import load_dataset\n",
    "dataset = load_dataset(\"ai4privacy/pii-masking-300k\")\n"
   ]
  },
  {
   "cell_type": "code",
   "execution_count": 5,
   "metadata": {},
   "outputs": [
    {
     "data": {
      "text/plain": [
       "DatasetDict({\n",
       "    train: Dataset({\n",
       "        features: ['source_text', 'target_text', 'privacy_mask', 'span_labels', 'mbert_text_tokens', 'mbert_bio_labels', 'id', 'language', 'set'],\n",
       "        num_rows: 177677\n",
       "    })\n",
       "    validation: Dataset({\n",
       "        features: ['source_text', 'target_text', 'privacy_mask', 'span_labels', 'mbert_text_tokens', 'mbert_bio_labels', 'id', 'language', 'set'],\n",
       "        num_rows: 47728\n",
       "    })\n",
       "})"
      ]
     },
     "execution_count": 5,
     "metadata": {},
     "output_type": "execute_result"
    }
   ],
   "source": [
    "dataset"
   ]
  },
  {
   "cell_type": "code",
   "execution_count": 6,
   "metadata": {},
   "outputs": [],
   "source": [
    "#document is rand id\n",
    "#full_text is simply the text\n",
    "#tokens is full text split by tokens and put into list\n",
    "#traling white space is a boolean saying whether there is a space after that token\n",
    "#labels is 0 if NA or label if it has a label"
   ]
  },
  {
   "cell_type": "code",
   "execution_count": 7,
   "metadata": {},
   "outputs": [],
   "source": [
    "#up to 29908 are english"
   ]
  },
  {
   "cell_type": "code",
   "execution_count": 8,
   "metadata": {},
   "outputs": [],
   "source": [
    "document_ids = dataset['train']['id'][:29908]"
   ]
  },
  {
   "cell_type": "code",
   "execution_count": 9,
   "metadata": {},
   "outputs": [],
   "source": [
    "full_text = dataset['train']['source_text'][:29908]"
   ]
  },
  {
   "cell_type": "code",
   "execution_count": 10,
   "metadata": {},
   "outputs": [],
   "source": [
    "span_labels = dataset['train']['span_labels'][:29908]"
   ]
  },
  {
   "cell_type": "code",
   "execution_count": 11,
   "metadata": {},
   "outputs": [],
   "source": [
    "from ast import literal_eval\n",
    "\n",
    "label_text = []\n",
    "labels = set()\n",
    "for i, spans in enumerate(span_labels):\n",
    "    spans = literal_eval(spans)\n",
    "    text = full_text[i]\n",
    "    for span in spans:\n",
    "        labels.add(span[2])\n",
    "        text = text[:span[0]] + span[2] + text[span[1]+1:]\n",
    "    label_text.append(text)"
   ]
  },
  {
   "cell_type": "code",
   "execution_count": 12,
   "metadata": {},
   "outputs": [],
   "source": [
    "#let's use the spacy english tokenizer\n",
    "# Construction 2\n",
    "from spacy.lang.en import English\n",
    "nlp = English()\n",
    "# Create a Tokenizer with the default settings for English\n",
    "# including punctuation rules and exceptions\n",
    "tokenizer = nlp.tokenizer"
   ]
  },
  {
   "cell_type": "code",
   "execution_count": 13,
   "metadata": {},
   "outputs": [],
   "source": [
    "tokens = [[i.text for i in tokenizer(i)] for i in full_text]"
   ]
  },
  {
   "cell_type": "code",
   "execution_count": 18,
   "metadata": {},
   "outputs": [],
   "source": [
    "trailing_whitespaces = tokens = [[bool(i.whitespace_) for i in tokenizer(i)] for i in full_text]"
   ]
  },
  {
   "cell_type": "code",
   "execution_count": 15,
   "metadata": {},
   "outputs": [],
   "source": [
    "labels = list(labels)"
   ]
  },
  {
   "cell_type": "code",
   "execution_count": 16,
   "metadata": {},
   "outputs": [
    {
     "data": {
      "text/plain": [
       "['SEX',\n",
       " 'CARDISSUER',\n",
       " 'COUNTRY',\n",
       " 'GIVENNAME1',\n",
       " 'DATE',\n",
       " 'LASTNAME1',\n",
       " 'STATE',\n",
       " 'CITY',\n",
       " 'EMAIL',\n",
       " 'TITLE',\n",
       " 'GIVENNAME2',\n",
       " 'PASSPORT',\n",
       " 'IP',\n",
       " 'GEOCOORD',\n",
       " 'PASS',\n",
       " 'BUILDING',\n",
       " 'POSTCODE',\n",
       " 'USERNAME',\n",
       " 'LASTNAME3',\n",
       " 'STREET',\n",
       " 'LASTNAME2',\n",
       " 'IDCARD',\n",
       " 'BOD',\n",
       " 'DRIVERLICENSE',\n",
       " 'TEL',\n",
       " 'SECADDRESS',\n",
       " 'TIME',\n",
       " 'SOCIALNUMBER']"
      ]
     },
     "execution_count": 16,
     "metadata": {},
     "output_type": "execute_result"
    }
   ],
   "source": [
    "labels"
   ]
  },
  {
   "cell_type": "code",
   "execution_count": 17,
   "metadata": {},
   "outputs": [],
   "source": [
    "label_tokens = [[str(i) for i in tokenizer(i)] for i in label_text]"
   ]
  },
  {
   "cell_type": "code",
   "execution_count": 19,
   "metadata": {},
   "outputs": [],
   "source": [
    "for label in label_tokens:\n",
    "    for i,j in enumerate(label):\n",
    "        label[i] = 'O'\n",
    "        for l in labels:\n",
    "            if l in j:\n",
    "                label[i] = l\n",
    "                break\n"
   ]
  },
  {
   "cell_type": "code",
   "execution_count": 20,
   "metadata": {},
   "outputs": [],
   "source": [
    "data = []\n",
    "\n",
    "for i in range(len(document_ids)):\n",
    "    data.append({\n",
    "        'document': document_ids[i][:-1],\n",
    "        'full_text': full_text[i],\n",
    "        'tokens': tokens[i],\n",
    "        'labels': label_tokens[i],\n",
    "        'trailing_whitespaces': trailing_whitespaces[i]\n",
    "    })\n"
   ]
  },
  {
   "cell_type": "code",
   "execution_count": 21,
   "metadata": {},
   "outputs": [],
   "source": [
    "import json\n",
    "\n",
    "\n",
    "with open(\"train.json\", \"w\") as f:\n",
    "    f.write(json.dumps(data))"
   ]
  },
  {
   "cell_type": "code",
   "execution_count": null,
   "metadata": {},
   "outputs": [],
   "source": []
  }
 ],
 "metadata": {
  "kernelspec": {
   "display_name": "Python 3",
   "language": "python",
   "name": "python3"
  },
  "language_info": {
   "codemirror_mode": {
    "name": "ipython",
    "version": 3
   },
   "file_extension": ".py",
   "mimetype": "text/x-python",
   "name": "python",
   "nbconvert_exporter": "python",
   "pygments_lexer": "ipython3",
   "version": "3.12.3"
  }
 },
 "nbformat": 4,
 "nbformat_minor": 2
}
