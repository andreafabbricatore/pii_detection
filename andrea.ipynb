{
 "cells": [
  {
   "cell_type": "code",
   "execution_count": 1,
   "metadata": {},
   "outputs": [
    {
     "name": "stderr",
     "output_type": "stream",
     "text": [
      "/Library/Frameworks/Python.framework/Versions/3.12/lib/python3.12/site-packages/tqdm/auto.py:21: TqdmWarning: IProgress not found. Please update jupyter and ipywidgets. See https://ipywidgets.readthedocs.io/en/stable/user_install.html\n",
      "  from .autonotebook import tqdm as notebook_tqdm\n"
     ]
    }
   ],
   "source": [
    "import datasets"
   ]
  },
  {
   "cell_type": "code",
   "execution_count": 2,
   "metadata": {},
   "outputs": [
    {
     "name": "stderr",
     "output_type": "stream",
     "text": [
      "Generating train split: 100%|██████████| 177677/177677 [00:01<00:00, 136599.49 examples/s]\n",
      "Generating validation split: 100%|██████████| 47728/47728 [00:00<00:00, 126773.73 examples/s]\n"
     ]
    }
   ],
   "source": [
    "from datasets import load_dataset\n",
    "dataset = load_dataset(\"ai4privacy/pii-masking-300k\")"
   ]
  },
  {
   "cell_type": "code",
   "execution_count": 3,
   "metadata": {},
   "outputs": [
    {
     "data": {
      "text/plain": [
       "DatasetDict({\n",
       "    train: Dataset({\n",
       "        features: ['source_text', 'target_text', 'privacy_mask', 'span_labels', 'mbert_text_tokens', 'mbert_bio_labels', 'id', 'language', 'set'],\n",
       "        num_rows: 177677\n",
       "    })\n",
       "    validation: Dataset({\n",
       "        features: ['source_text', 'target_text', 'privacy_mask', 'span_labels', 'mbert_text_tokens', 'mbert_bio_labels', 'id', 'language', 'set'],\n",
       "        num_rows: 47728\n",
       "    })\n",
       "})"
      ]
     },
     "execution_count": 3,
     "metadata": {},
     "output_type": "execute_result"
    }
   ],
   "source": [
    "dataset"
   ]
  },
  {
   "cell_type": "code",
   "execution_count": 4,
   "metadata": {},
   "outputs": [],
   "source": [
    "#document is rand id\n",
    "#full_text is simply the text\n",
    "#tokens is full text split by tokens and put into list\n",
    "#traling white space is a boolean saying whether there is a space after that token\n",
    "#labels is O if NA or label if it has a label"
   ]
  },
  {
   "cell_type": "code",
   "execution_count": 5,
   "metadata": {},
   "outputs": [],
   "source": [
    "#up to 29908 are english"
   ]
  },
  {
   "cell_type": "code",
   "execution_count": 6,
   "metadata": {},
   "outputs": [],
   "source": [
    "document_ids = dataset['train']['id'][:29908]"
   ]
  },
  {
   "cell_type": "code",
   "execution_count": 7,
   "metadata": {},
   "outputs": [],
   "source": [
    "full_text = dataset['train']['source_text'][:29908]"
   ]
  },
  {
   "cell_type": "code",
   "execution_count": 8,
   "metadata": {},
   "outputs": [],
   "source": [
    "span_labels = dataset['train']['span_labels'][:29908]"
   ]
  },
  {
   "cell_type": "code",
   "execution_count": 12,
   "metadata": {},
   "outputs": [
    {
     "ename": "ModuleNotFoundError",
     "evalue": "No module named 'spacy'",
     "output_type": "error",
     "traceback": [
      "\u001b[0;31m---------------------------------------------------------------------------\u001b[0m",
      "\u001b[0;31mModuleNotFoundError\u001b[0m                       Traceback (most recent call last)",
      "Cell \u001b[0;32mIn[12], line 3\u001b[0m\n\u001b[1;32m      1\u001b[0m \u001b[38;5;66;03m#let's use the spacy english tokenizer\u001b[39;00m\n\u001b[1;32m      2\u001b[0m \u001b[38;5;66;03m# Construction 2\u001b[39;00m\n\u001b[0;32m----> 3\u001b[0m \u001b[38;5;28;01mfrom\u001b[39;00m \u001b[38;5;21;01mspacy\u001b[39;00m\u001b[38;5;21;01m.\u001b[39;00m\u001b[38;5;21;01mlang\u001b[39;00m\u001b[38;5;21;01m.\u001b[39;00m\u001b[38;5;21;01men\u001b[39;00m \u001b[38;5;28;01mimport\u001b[39;00m English\n\u001b[1;32m      4\u001b[0m nlp \u001b[38;5;241m=\u001b[39m English()\n\u001b[1;32m      5\u001b[0m \u001b[38;5;66;03m# Create a Tokenizer with the default settings for English\u001b[39;00m\n\u001b[1;32m      6\u001b[0m \u001b[38;5;66;03m# including punctuation rules and exceptions\u001b[39;00m\n",
      "\u001b[0;31mModuleNotFoundError\u001b[0m: No module named 'spacy'"
     ]
    }
   ],
   "source": [
    "#let's use the spacy english tokenizer\n",
    "# Construction 2\n",
    "from spacy.lang.en import English\n",
    "nlp = English()\n",
    "# Create a Tokenizer with the default settings for English\n",
    "# including punctuation rules and exceptions\n",
    "tokenizer = nlp.tokenizer"
   ]
  },
  {
   "cell_type": "code",
   "execution_count": 70,
   "metadata": {},
   "outputs": [],
   "source": [
    "from ast import literal_eval\n",
    "\n",
    "label_text = []\n",
    "labels = set()\n",
    "for i, spans in enumerate(span_labels):\n",
    "    spans = literal_eval(spans)\n",
    "    text = full_text[i]\n",
    "    for span in spans:\n",
    "        var_to_repl = text[span[0]:span[1]]\n",
    "        tokens = [i.text for i in tokenizer(var_to_repl)]\n",
    "        whitespaces = [i.whitespace_ for i in tokenizer(var_to_repl)]\n",
    "        if len(tokens) > 1:\n",
    "            new_tokens = []\n",
    "            for ind, token in enumerate(tokens):\n",
    "                if ind == 0:\n",
    "                    new_tokens.append(f\"{span[2]}_START\")\n",
    "                    new_tokens.append(whitespaces[ind])\n",
    "                    labels.add(f\"{span[2]}_START\")\n",
    "                elif ind == len(tokens)-1:\n",
    "                    new_tokens.append(f\"{span[2]}_END\")\n",
    "                    new_tokens.append(whitespaces[ind])\n",
    "                    labels.add(f\"{span[2]}_END\")\n",
    "                else:\n",
    "                    new_tokens.append(f\"{span[2]}_MIDDLE\")\n",
    "                    new_tokens.append(whitespaces[ind])\n",
    "                    labels.add(f\"{span[2]}_MIDDLE\")\n",
    "            repl = \"\".join(new_tokens)\n",
    "            text = text[:span[0]] + repl + text[span[1]:]\n",
    "        else:\n",
    "            text = text[:span[0]] + span[2] + text[span[1]:]\n",
    "            labels.add(span[2])\n",
    "    label_text.append(text)"
   ]
  },
  {
   "cell_type": "code",
   "execution_count": 89,
   "metadata": {},
   "outputs": [],
   "source": [
    "tokens = [[i.text for i in tokenizer(i)] for i in full_text]"
   ]
  },
  {
   "cell_type": "code",
   "execution_count": 72,
   "metadata": {},
   "outputs": [],
   "source": [
    "trailing_whitespaces = [[bool(i.whitespace_) for i in tokenizer(i)] for i in full_text]"
   ]
  },
  {
   "cell_type": "code",
   "execution_count": 73,
   "metadata": {},
   "outputs": [],
   "source": [
    "labels = list(labels)"
   ]
  },
  {
   "cell_type": "code",
   "execution_count": 75,
   "metadata": {},
   "outputs": [
    {
     "data": {
      "text/plain": [
       "111"
      ]
     },
     "execution_count": 75,
     "metadata": {},
     "output_type": "execute_result"
    }
   ],
   "source": [
    "len(labels)"
   ]
  },
  {
   "cell_type": "code",
   "execution_count": 81,
   "metadata": {},
   "outputs": [],
   "source": [
    "label_tokens = [[str(i) for i in tokenizer(i)] for i in label_text]"
   ]
  },
  {
   "cell_type": "code",
   "execution_count": 77,
   "metadata": {},
   "outputs": [],
   "source": [
    "for label in label_tokens:\n",
    "    for i,j in enumerate(label):\n",
    "        label[i] = 'O'\n",
    "        for l in labels:\n",
    "            if l in j:\n",
    "                label[i] = l\n",
    "                break\n"
   ]
  },
  {
   "cell_type": "code",
   "execution_count": 20,
   "metadata": {},
   "outputs": [],
   "source": [
    "data = []\n",
    "\n",
    "for i in range(len(document_ids)):\n",
    "    data.append({\n",
    "        'document': document_ids[i][:-1],\n",
    "        'full_text': full_text[i],\n",
    "        'tokens': tokens[i],\n",
    "        'labels': label_tokens[i],\n",
    "        'trailing_whitespaces': trailing_whitespaces[i]\n",
    "    })\n"
   ]
  },
  {
   "cell_type": "code",
   "execution_count": 21,
   "metadata": {},
   "outputs": [],
   "source": [
    "import json\n",
    "\n",
    "\n",
    "with open(\"train.json\", \"w\") as f:\n",
    "    f.write(json.dumps(data))"
   ]
  },
  {
   "cell_type": "code",
   "execution_count": null,
   "metadata": {},
   "outputs": [],
   "source": []
  }
 ],
 "metadata": {
  "kernelspec": {
   "display_name": "Python 3",
   "language": "python",
   "name": "python3"
  },
  "language_info": {
   "codemirror_mode": {
    "name": "ipython",
    "version": 3
   },
   "file_extension": ".py",
   "mimetype": "text/x-python",
   "name": "python",
   "nbconvert_exporter": "python",
   "pygments_lexer": "ipython3",
   "version": "3.12.0"
  }
 },
 "nbformat": 4,
 "nbformat_minor": 2
}
