{
 "cells": [
  {
   "cell_type": "code",
   "execution_count": null,
   "metadata": {},
   "outputs": [],
   "source": [
    "import numpy as np"
   ]
  },
  {
   "cell_type": "code",
   "execution_count": 5,
   "metadata": {},
   "outputs": [],
   "source": [
    "all_labels = ['B-STREET',\n",
    " 'B-CITY',\n",
    " 'I-DATE',\n",
    " 'B-PASS',\n",
    " 'I-CITY',\n",
    " 'B-TIME',\n",
    " 'B-EMAIL',\n",
    " 'I-DRIVERLICENSE',\n",
    " 'I-POSTCODE',\n",
    " 'I-BOD',\n",
    " 'B-USERNAME',\n",
    " 'B-BOD',\n",
    " 'B-COUNTRY',\n",
    " 'B-SECADDRESS',\n",
    " 'B-IDCARD',\n",
    " 'I-SOCIALNUMBER',\n",
    " 'I-PASSPORT',\n",
    " 'B-IP',\n",
    " 'O',\n",
    " 'B-TEL',\n",
    " 'B-SOCIALNUMBER',\n",
    " 'I-TIME',\n",
    " 'B-BUILDING',\n",
    " 'B-PASSPORT',\n",
    " 'I-TITLE',\n",
    " 'I-SEX',\n",
    " 'I-STREET',\n",
    " 'B-STATE',\n",
    " 'I-STATE',\n",
    " 'B-TITLE',\n",
    " 'B-DATE',\n",
    " 'B-GEOCOORD',\n",
    " 'I-IDCARD',\n",
    " 'I-TEL',\n",
    " 'B-POSTCODE',\n",
    " 'B-DRIVERLICENSE',\n",
    " 'I-GEOCOORD',\n",
    " 'I-COUNTRY',\n",
    " 'I-EMAIL',\n",
    " 'I-PASS',\n",
    " 'B-SEX',\n",
    " 'I-USERNAME',\n",
    " 'I-BUILDING',\n",
    " 'I-IP',\n",
    " 'I-SECADDRESS',\n",
    " 'B-CARDISSUER',\n",
    " 'I-CARDISSUER']\n",
    "id2label = {i: l for i, l in enumerate(all_labels)}\n",
    "label2id = {v: k for k, v in id2label.items()}\n",
    "target = [l for l in all_labels if l != \"O\"]"
   ]
  },
  {
   "cell_type": "code",
   "execution_count": 8,
   "metadata": {},
   "outputs": [],
   "source": [
    "tbd = len(all_labels)"
   ]
  },
  {
   "cell_type": "code",
   "execution_count": 9,
   "metadata": {},
   "outputs": [
    {
     "data": {
      "text/plain": [
       "47"
      ]
     },
     "execution_count": 9,
     "metadata": {},
     "output_type": "execute_result"
    }
   ],
   "source": [
    "tbd"
   ]
  },
  {
   "cell_type": "code",
   "execution_count": 4,
   "metadata": {},
   "outputs": [
    {
     "ename": "ModuleNotFoundError",
     "evalue": "No module named 'evaluate'",
     "output_type": "error",
     "traceback": [
      "\u001b[0;31m---------------------------------------------------------------------------\u001b[0m",
      "\u001b[0;31mModuleNotFoundError\u001b[0m                       Traceback (most recent call last)",
      "Cell \u001b[0;32mIn[4], line 1\u001b[0m\n\u001b[0;32m----> 1\u001b[0m \u001b[38;5;28;01mimport\u001b[39;00m \u001b[38;5;21;01mevaluate\u001b[39;00m\n\u001b[1;32m      3\u001b[0m confusion_matrix \u001b[38;5;241m=\u001b[39m evaluate\u001b[38;5;241m.\u001b[39mload(\u001b[38;5;124m\"\u001b[39m\u001b[38;5;124mconfusion_matrix\u001b[39m\u001b[38;5;124m\"\u001b[39m)\n",
      "\u001b[0;31mModuleNotFoundError\u001b[0m: No module named 'evaluate'"
     ]
    }
   ],
   "source": [
    "import evaluate\n",
    "\n",
    "confusion_matrix = evaluate.load(\"confusion_matrix\")\n",
    "seqeval = evaluate.load(\"seqeval\")"
   ]
  },
  {
   "cell_type": "code",
   "execution_count": null,
   "metadata": {},
   "outputs": [],
   "source": [
    "def compute_metrics(p):\n",
    "    predictions, labels = p\n",
    "    predictions = np.argmax(predictions, axis=2)\n",
    "\n",
    "    true_predictions = [\n",
    "        [all_labels[p] for (p, l) in zip(prediction, label) if l != -100]\n",
    "        for prediction, label in zip(predictions, labels)\n",
    "    ]\n",
    "    true_labels = [\n",
    "        [all_labels[l] for (p, l) in zip(prediction, label) if l != -100]\n",
    "        for prediction, label in zip(predictions, labels)\n",
    "    ]\n",
    "\n",
    "    results = seqeval.compute(predictions=true_predictions, references=true_labels)\n",
    "    confusion = confusion_matrix.compute(predictions=true_predictions, references=true_labels)\n",
    "    return {\n",
    "        \"precision\": results[\"overall_precision\"],\n",
    "        \"recall\": results[\"overall_recall\"],\n",
    "        \"f1\": results[\"overall_f1\"],\n",
    "        \"accuracy\": results[\"overall_accuracy\"],\n",
    "        \"confusion_matrix\": confusion[\"confusion_matrix\"]\n",
    "    }"
   ]
  },
  {
   "cell_type": "code",
   "execution_count": null,
   "metadata": {},
   "outputs": [],
   "source": [
    "from transformers import AutoModelForTokenClassification, TrainingArguments, Trainer, AutoTokenizer, DataCollatorForTokenClassification\n",
    "from aux import json_to_Dataset\n",
    "\n",
    "model = AutoModelForTokenClassification.from_pretrained(\n",
    "    \"microsoft/deberta-v2-xlarge\", num_labels=tbd, id2label=id2label, label2id=label2id\n",
    ")"
   ]
  },
  {
   "cell_type": "code",
   "execution_count": null,
   "metadata": {},
   "outputs": [],
   "source": [
    "deberta_tokenizer = AutoTokenizer.from_pretrained(\"microsoft/deberta-v2-xlarge\")\n",
    "data_collator = DataCollatorForTokenClassification(tokenizer = deberta_tokenizer)"
   ]
  },
  {
   "cell_type": "code",
   "execution_count": null,
   "metadata": {},
   "outputs": [],
   "source": [
    "training_args = TrainingArguments(\n",
    "    output_dir=\"deberta-pii-finetuned-v1\",\n",
    "    learning_rate=2e-5,\n",
    "    per_device_train_batch_size=16,\n",
    "    per_device_eval_batch_size=16,\n",
    "    num_train_epochs=4,\n",
    "    weight_decay=0.01,\n",
    "    save_steps=100,\n",
    "    eval_steps=100,\n",
    "    logging_steps=10,\n",
    "    evaluation_strategy=\"epoch\",\n",
    "    save_strategy=\"epoch\",\n",
    "    load_best_model_at_end=True,\n",
    "    push_to_hub=False,\n",
    "    remove_unused_columns= False,\n",
    "    report_to= \"tensorboard\"\n",
    ")\n",
    "\n",
    "trainer = Trainer(\n",
    "    model=model,\n",
    "    args=training_args,\n",
    "    train_dataset= json_to_Dataset(\"/train.json\"),\n",
    "    eval_dataset=json_to_Dataset(\"/test.json\"),\n",
    "    tokenizer= deberta_tokenizer,\n",
    "    data_collator= data_collator,\n",
    "    compute_metrics= compute_metrics,\n",
    ")\n",
    "\n",
    "trainer.train()"
   ]
  },
  {
   "cell_type": "code",
   "execution_count": null,
   "metadata": {},
   "outputs": [],
   "source": [
    "def get_trainer_from_model_name(our_name, model_name):\n",
    "\n",
    "    model = AutoModelForTokenClassification.from_pretrained(\n",
    "    model_name , num_labels=tbd, id2label=id2label, label2id=label2id\n",
    "    )\n",
    "\n",
    "    tokenizer = AutoTokenizer.from_pretrained(model_name)\n",
    "    data_collator = DataCollatorForTokenClassification(tokenizer = tokenizer)\n",
    "\n",
    "    training_args = TrainingArguments(\n",
    "    output_dir=\"our_name\",\n",
    "    learning_rate=2e-5,\n",
    "    per_device_train_batch_size=16,\n",
    "    per_device_eval_batch_size=16,\n",
    "    num_train_epochs=4,\n",
    "    weight_decay=0.01,\n",
    "    save_steps=100,\n",
    "    eval_steps=100,\n",
    "    logging_steps=10,\n",
    "    evaluation_strategy=\"epoch\",\n",
    "    save_strategy=\"epoch\",\n",
    "    load_best_model_at_end=True,\n",
    "    push_to_hub=False,\n",
    "    remove_unused_columns= False,\n",
    "    report_to= \"tensorboard\"\n",
    "    )\n",
    "\n",
    "    trainer = Trainer(\n",
    "    model=model,\n",
    "    args=training_args,\n",
    "    train_dataset= json_to_Dataset(\"/train.json\"),\n",
    "    eval_dataset=json_to_Dataset(\"/test.json\"),\n",
    "    tokenizer= tokenizer,\n",
    "    data_collator= data_collator,\n",
    "    compute_metrics= compute_metrics,\n",
    "    )\n",
    "\n",
    "    return trainer"
   ]
  }
 ],
 "metadata": {
  "kernelspec": {
   "display_name": "Python 3",
   "language": "python",
   "name": "python3"
  },
  "language_info": {
   "codemirror_mode": {
    "name": "ipython",
    "version": 3
   },
   "file_extension": ".py",
   "mimetype": "text/x-python",
   "name": "python",
   "nbconvert_exporter": "python",
   "pygments_lexer": "ipython3",
   "version": "3.11.2"
  }
 },
 "nbformat": 4,
 "nbformat_minor": 2
}
