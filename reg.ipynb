{
 "cells": [
  {
   "cell_type": "code",
   "execution_count": 1,
   "metadata": {},
   "outputs": [
    {
     "name": "stderr",
     "output_type": "stream",
     "text": [
      "/Library/Frameworks/Python.framework/Versions/3.12/lib/python3.12/site-packages/tqdm/auto.py:21: TqdmWarning: IProgress not found. Please update jupyter and ipywidgets. See https://ipywidgets.readthedocs.io/en/stable/user_install.html\n",
      "  from .autonotebook import tqdm as notebook_tqdm\n"
     ]
    }
   ],
   "source": [
    "import aux\n",
    "from transformers import AutoModelForTokenClassification, TrainingArguments, Trainer, AutoTokenizer, DataCollatorForTokenClassification\n",
    "import matplotlib.pyplot as plt\n",
    "import seaborn as sns\n",
    "import numpy as np\n",
    "import torch\n",
    "from kingbert import KingBert\n",
    "from tqdm import tqdm"
   ]
  },
  {
   "cell_type": "code",
   "execution_count": 2,
   "metadata": {},
   "outputs": [],
   "source": [
    "model = AutoModelForTokenClassification.from_pretrained('distilbert_finetuned')\n",
    "tokenizer = AutoTokenizer.from_pretrained('distilbert_finetuned')"
   ]
  },
  {
   "cell_type": "code",
   "execution_count": 3,
   "metadata": {},
   "outputs": [],
   "source": [
    "model2 = AutoModelForTokenClassification.from_pretrained('albert_finetuned')\n",
    "tokenizer2 = AutoTokenizer.from_pretrained('albert_finetuned')"
   ]
  },
  {
   "cell_type": "code",
   "execution_count": 4,
   "metadata": {},
   "outputs": [],
   "source": [
    "data = aux.json_to_Dataset_ensemble(\"data/ensemble_train.json\")"
   ]
  },
  {
   "cell_type": "code",
   "execution_count": 8,
   "metadata": {},
   "outputs": [
    {
     "name": "stderr",
     "output_type": "stream",
     "text": [
      "100%|██████████| 18244/18244 [41:53<00:00,  7.26it/s] \n"
     ]
    }
   ],
   "source": [
    "albert_logits = []\n",
    "distilbert_logits = []\n",
    "labels = []\n",
    "\n",
    "for datum in tqdm(data):\n",
    "    logits_albert, predictions, predicted_token_class, inputs = aux.inference(model2, torch.tensor([datum['albert_inputids']]), torch.tensor([datum['albert_attention_masks']]))\n",
    "    logits_distilbert, predictions, predicted_token_class, inputs = aux.inference(model, torch.tensor([datum['distilbert_inputids']]), torch.tensor([datum['distilbert_attention_masks']]))\n",
    "    albert_output, distilbert_output = aux.ensembler(logits_albert.squeeze(), logits_distilbert.squeeze(), datum['albert_wordids'], datum['distilbert_wordids'])\n",
    "    albert_output = torch.softmax(albert_output, dim=1)\n",
    "    distilbert_output = torch.softmax(distilbert_output, dim=1)\n",
    "    if distilbert_output.shape != albert_output.shape:\n",
    "        continue\n",
    "    if albert_output.shape[0] != len(datum['spacy_labels']):\n",
    "        continue\n",
    "    albert_logits += [row.tolist() for row in albert_output]\n",
    "    distilbert_logits += [row.tolist() for row in distilbert_output]\n",
    "    spacy_labels = []\n",
    "    for i in datum['spacy_labels']:\n",
    "        ohe_labels = [0 for i in range(47)]\n",
    "        ohe_labels[i] = 1\n",
    "        spacy_labels.append(ohe_labels)\n",
    "    labels += spacy_labels\n",
    "    assert len(albert_logits) == len(distilbert_logits)\n",
    "    assert len(labels) == len(albert_logits)"
   ]
  },
  {
   "cell_type": "code",
   "execution_count": 12,
   "metadata": {},
   "outputs": [
    {
     "data": {
      "text/plain": [
       "True"
      ]
     },
     "execution_count": 12,
     "metadata": {},
     "output_type": "execute_result"
    }
   ],
   "source": [
    "len(labels) == len(distilbert_logits) == len(albert_logits)"
   ]
  },
  {
   "cell_type": "code",
   "execution_count": 27,
   "metadata": {},
   "outputs": [
    {
     "name": "stderr",
     "output_type": "stream",
     "text": [
      "100%|██████████| 82181/82181 [00:18<00:00, 4523.20it/s]\n"
     ]
    },
    {
     "name": "stdout",
     "output_type": "stream",
     "text": [
      "Epoch [1/10], Loss: 3.8216\n"
     ]
    },
    {
     "name": "stderr",
     "output_type": "stream",
     "text": [
      "100%|██████████| 82181/82181 [00:18<00:00, 4494.66it/s]\n"
     ]
    },
    {
     "name": "stdout",
     "output_type": "stream",
     "text": [
      "Epoch [2/10], Loss: 3.8189\n"
     ]
    },
    {
     "name": "stderr",
     "output_type": "stream",
     "text": [
      "100%|██████████| 82181/82181 [00:18<00:00, 4470.67it/s]\n"
     ]
    },
    {
     "name": "stdout",
     "output_type": "stream",
     "text": [
      "Epoch [3/10], Loss: 3.8215\n"
     ]
    },
    {
     "name": "stderr",
     "output_type": "stream",
     "text": [
      "100%|██████████| 82181/82181 [00:18<00:00, 4370.01it/s]\n"
     ]
    },
    {
     "name": "stdout",
     "output_type": "stream",
     "text": [
      "Epoch [4/10], Loss: 3.8216\n"
     ]
    },
    {
     "name": "stderr",
     "output_type": "stream",
     "text": [
      "100%|██████████| 82181/82181 [00:20<00:00, 4074.72it/s]\n"
     ]
    },
    {
     "name": "stdout",
     "output_type": "stream",
     "text": [
      "Epoch [5/10], Loss: 3.8216\n"
     ]
    },
    {
     "name": "stderr",
     "output_type": "stream",
     "text": [
      "100%|██████████| 82181/82181 [00:21<00:00, 3788.61it/s]\n"
     ]
    },
    {
     "name": "stdout",
     "output_type": "stream",
     "text": [
      "Epoch [6/10], Loss: 3.8157\n"
     ]
    },
    {
     "name": "stderr",
     "output_type": "stream",
     "text": [
      "100%|██████████| 82181/82181 [00:22<00:00, 3609.17it/s]\n"
     ]
    },
    {
     "name": "stdout",
     "output_type": "stream",
     "text": [
      "Epoch [7/10], Loss: 3.8215\n"
     ]
    },
    {
     "name": "stderr",
     "output_type": "stream",
     "text": [
      "100%|██████████| 82181/82181 [00:23<00:00, 3518.16it/s]\n"
     ]
    },
    {
     "name": "stdout",
     "output_type": "stream",
     "text": [
      "Epoch [8/10], Loss: 3.8157\n"
     ]
    },
    {
     "name": "stderr",
     "output_type": "stream",
     "text": [
      "100%|██████████| 82181/82181 [00:23<00:00, 3502.90it/s]\n"
     ]
    },
    {
     "name": "stdout",
     "output_type": "stream",
     "text": [
      "Epoch [9/10], Loss: 3.8157\n"
     ]
    },
    {
     "name": "stderr",
     "output_type": "stream",
     "text": [
      "100%|██████████| 82181/82181 [00:22<00:00, 3576.43it/s]"
     ]
    },
    {
     "name": "stdout",
     "output_type": "stream",
     "text": [
      "Epoch [10/10], Loss: 3.8157\n"
     ]
    },
    {
     "name": "stderr",
     "output_type": "stream",
     "text": [
      "\n"
     ]
    }
   ],
   "source": [
    "import torch\n",
    "import torch.nn as nn\n",
    "import torch.optim as optim\n",
    "from torch.utils.data import DataLoader, TensorDataset\n",
    "\n",
    "# Define your model\n",
    "class Ensembler(nn.Module):\n",
    "    def __init__(self):\n",
    "        super(Ensembler, self).__init__()\n",
    "        self.alpha = nn.Parameter(0.5 * torch.ones(47), requires_grad=True)\n",
    "        self.softmax = nn.Softmax(dim=1)\n",
    "\n",
    "    def forward(self, x1, x2):\n",
    "        final_output = x1 * self.alpha + x2 * (torch.ones(47) - self.alpha)\n",
    "        return self.softmax(final_output)\n",
    "\n",
    "# Define your loss function\n",
    "criterion = nn.CrossEntropyLoss()\n",
    "\n",
    "# Define your model and optimizer\n",
    "ensembler = Ensembler()\n",
    "optimizer = optim.Adam(model.parameters(), lr=2e-5)\n",
    "\n",
    "# Convert your data to torch tensors if they aren't already\n",
    "albert_data = albert_logits\n",
    "distilbert_data = distilbert_logits\n",
    "labels_data = labels\n",
    "\n",
    "\n",
    "# Convert them to PyTorch tensors\n",
    "albert_inputs = torch.tensor(albert_logits, dtype=torch.float32)\n",
    "distilbert_inputs = torch.tensor(distilbert_logits, dtype=torch.float32)\n",
    "labels_outputs = torch.tensor(labels_data, dtype=torch.float32)\n",
    "\n",
    "# Create a TensorDataset and DataLoader for batching\n",
    "dataset = TensorDataset(albert_inputs, distilbert_inputs, labels_outputs)\n",
    "batch_size = 16\n",
    "dataloader = DataLoader(dataset, batch_size=batch_size, shuffle=True)\n",
    "\n",
    "# Training loop with batches\n",
    "epochs = 10\n",
    "for epoch in range(epochs):\n",
    "    for batch_albert_inputs, batch_distilbert_inputs, batch_labels in tqdm(dataloader):\n",
    "        # Forward pass\n",
    "        outputs = ensembler(batch_distilbert_inputs, batch_albert_inputs)\n",
    "        loss = criterion(outputs, batch_labels)\n",
    "        \n",
    "        # Backward pass and optimization\n",
    "        optimizer.zero_grad()\n",
    "        loss.backward()\n",
    "        optimizer.step()\n",
    "    \n",
    "    print(f'Epoch [{epoch+1}/{epochs}], Loss: {loss.item():.4f}')\n"
   ]
  },
  {
   "cell_type": "code",
   "execution_count": 28,
   "metadata": {},
   "outputs": [
    {
     "data": {
      "text/plain": [
       "Parameter containing:\n",
       "tensor([0.5000, 0.5000, 0.5000, 0.5000, 0.5000, 0.5000, 0.5000, 0.5000, 0.5000,\n",
       "        0.5000, 0.5000, 0.5000, 0.5000, 0.5000, 0.5000, 0.5000, 0.5000, 0.5000,\n",
       "        0.5000, 0.5000, 0.5000, 0.5000, 0.5000, 0.5000, 0.5000, 0.5000, 0.5000,\n",
       "        0.5000, 0.5000, 0.5000, 0.5000, 0.5000, 0.5000, 0.5000, 0.5000, 0.5000,\n",
       "        0.5000, 0.5000, 0.5000, 0.5000, 0.5000, 0.5000, 0.5000, 0.5000, 0.5000,\n",
       "        0.5000, 0.5000], requires_grad=True)"
      ]
     },
     "execution_count": 28,
     "metadata": {},
     "output_type": "execute_result"
    }
   ],
   "source": [
    "ensembler.alpha"
   ]
  },
  {
   "cell_type": "code",
   "execution_count": null,
   "metadata": {},
   "outputs": [],
   "source": []
  }
 ],
 "metadata": {
  "kernelspec": {
   "display_name": "Python 3",
   "language": "python",
   "name": "python3"
  },
  "language_info": {
   "codemirror_mode": {
    "name": "ipython",
    "version": 3
   },
   "file_extension": ".py",
   "mimetype": "text/x-python",
   "name": "python",
   "nbconvert_exporter": "python",
   "pygments_lexer": "ipython3",
   "version": "3.12.0"
  }
 },
 "nbformat": 4,
 "nbformat_minor": 2
}
